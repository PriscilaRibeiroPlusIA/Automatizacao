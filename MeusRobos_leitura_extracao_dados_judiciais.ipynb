{
  "nbformat": 4,
  "nbformat_minor": 0,
  "metadata": {
    "colab": {
      "provenance": []
    },
    "kernelspec": {
      "name": "python3",
      "display_name": "Python 3"
    },
    "language_info": {
      "name": "python"
    }
  },
  "cells": [
    {
      "cell_type": "code",
      "execution_count": 1,
      "metadata": {
        "colab": {
          "base_uri": "https://localhost:8080/"
        },
        "id": "cP0YyMLHIwwh",
        "outputId": "85f36966-17dd-4016-d9ea-f4bd709016e2"
      },
      "outputs": [
        {
          "output_type": "stream",
          "name": "stdout",
          "text": [
            "Mounted at /content/drive\n"
          ]
        }
      ],
      "source": [
        "# Célula 1: Conectar ao Google Drive\n",
        "from google.colab import drive\n",
        "drive.mount('/content/drive')"
      ]
    },
    {
      "cell_type": "code",
      "source": [
        "# Célula 2: Instalar a biblioteca PyPDF2\n",
        "!pip install PyPDF2"
      ],
      "metadata": {
        "colab": {
          "base_uri": "https://localhost:8080/"
        },
        "id": "j_YeHCd_JCOx",
        "outputId": "7de47115-d10c-43cc-e332-11ef194a1b11"
      },
      "execution_count": 2,
      "outputs": [
        {
          "output_type": "stream",
          "name": "stdout",
          "text": [
            "Collecting PyPDF2\n",
            "  Downloading pypdf2-3.0.1-py3-none-any.whl.metadata (6.8 kB)\n",
            "Downloading pypdf2-3.0.1-py3-none-any.whl (232 kB)\n",
            "\u001b[2K   \u001b[90m━━━━━━━━━━━━━━━━━━━━━━━━━━━━━━━━━━━━━━━━\u001b[0m \u001b[32m232.6/232.6 kB\u001b[0m \u001b[31m4.0 MB/s\u001b[0m eta \u001b[36m0:00:00\u001b[0m\n",
            "\u001b[?25hInstalling collected packages: PyPDF2\n",
            "Successfully installed PyPDF2-3.0.1\n"
          ]
        }
      ]
    },
    {
      "cell_type": "code",
      "source": [
        "# Célula 3: Definir o caminho da pasta dos PDFs\n",
        "import os # Biblioteca para interagir com o sistema de arquivos (pastas e arquivos)\n",
        "\n",
        "# !!!!! MUITO IMPORTANTE !!!!!\n",
        "# Substitua o texto abaixo pelo caminho correto da sua pasta de PDFs no Google Drive.\n",
        "# Exemplo: '/content/drive/MyDrive/Pdfs'\n",
        "pasta_dos_pdfs = \"/content/drive/MyDrive/Pdfs\" # <<< SUBSTITUA AQUI\n",
        "\n",
        "# Vamos verificar se a pasta existe para evitar erros\n",
        "if not os.path.exists(pasta_dos_pdfs):\n",
        "    print(f\"Atenção! A pasta '{pasta_dos_pdfs}' não foi encontrada. Verifique o caminho e tente novamente.\")\n",
        "    print(\"Certifique-se de que o Google Drive está montado e o caminho está correto.\")\n",
        "else:\n",
        "    print(f\"Ok! A pasta de PDFs foi configurada como: {pasta_dos_pdfs}\")\n",
        "\n",
        "# A pasta onde os resumos serão salvos será a mesma\n",
        "pasta_dos_resumos = pasta_dos_pdfs"
      ],
      "metadata": {
        "colab": {
          "base_uri": "https://localhost:8080/"
        },
        "id": "o_Fd4HfWJDNk",
        "outputId": "bda567c6-6034-4150-ec09-a5765277f4e4"
      },
      "execution_count": 3,
      "outputs": [
        {
          "output_type": "stream",
          "name": "stdout",
          "text": [
            "Ok! A pasta de PDFs foi configurada como: /content/drive/MyDrive/Pdfs\n"
          ]
        }
      ]
    },
    {
      "cell_type": "code",
      "source": [
        "# Célula 4: Agente 1 - Função para ler textos de arquivos PDF\n",
        "import PyPDF2 # A biblioteca que instalamos para ler PDFs\n",
        "\n",
        "def agente_leitor_de_pdfs(caminho_da_pasta_com_pdfs):\n",
        "    \"\"\"\n",
        "    Esta função (nosso \"agente leitor\") vai até a pasta especificada,\n",
        "    encontra todos os arquivos PDF e tenta ler o texto de cada um.\n",
        "    \"\"\"\n",
        "    print(f\"\\n--- Agente Leitor Ativado: Buscando PDFs em '{caminho_da_pasta_com_pdfs}' ---\")\n",
        "    documentos_lidos = [] # Uma lista vazia para guardar o nome e o texto de cada PDF\n",
        "\n",
        "    # Vamos olhar cada item dentro da pasta\n",
        "    for nome_do_arquivo in os.listdir(caminho_da_pasta_com_pdfs):\n",
        "        # Verificamos se o arquivo termina com \".pdf\" (ignorando se é PDF ou pdf)\n",
        "        if nome_do_arquivo.lower().endswith(\".pdf\"):\n",
        "            print(f\"Encontrei um PDF: {nome_do_arquivo}\")\n",
        "            caminho_completo_do_arquivo = os.path.join(caminho_da_pasta_com_pdfs, nome_do_arquivo)\n",
        "\n",
        "            try:\n",
        "                texto_do_pdf = \"\"\n",
        "                # Abrimos o arquivo PDF em modo de leitura binária ('rb')\n",
        "                with open(caminho_completo_do_arquivo, 'rb') as arquivo_pdf:\n",
        "                    # Criamos um objeto \"leitor de PDF\"\n",
        "                    leitor = PyPDF2.PdfReader(arquivo_pdf)\n",
        "                    # Vamos passar por cada página do PDF\n",
        "                    for numero_pagina in range(len(leitor.pages)):\n",
        "                        pagina = leitor.pages[numero_pagina]\n",
        "                        texto_do_pdf += pagina.extract_text() # Extrai o texto da página\n",
        "\n",
        "                if texto_do_pdf: # Se conseguimos ler algum texto\n",
        "                    documentos_lidos.append({\n",
        "                        \"nome_arquivo\": nome_do_arquivo,\n",
        "                        \"conteudo_texto\": texto_do_pdf\n",
        "                    })\n",
        "                    print(f\"  Texto extraído de '{nome_do_arquivo}' com sucesso!\")\n",
        "                else:\n",
        "                    print(f\"  Aviso: Não consegui extrair texto do '{nome_do_arquivo}' (pode estar vazio ou ser uma imagem).\")\n",
        "\n",
        "            except Exception as e:\n",
        "                # Se der algum erro ao tentar ler o PDF\n",
        "                print(f\"  Ops! Ocorreu um erro ao tentar ler o arquivo '{nome_do_arquivo}': {e}\")\n",
        "\n",
        "    if not documentos_lidos:\n",
        "        print(\"Nenhum texto de PDF foi extraído. Verifique se há PDFs na pasta ou se eles contêm texto selecionável.\")\n",
        "    else:\n",
        "        print(f\"--- Agente Leitor Concluído: {len(documentos_lidos)} PDF(s) processados. ---\")\n",
        "    return documentos_lidos\n",
        "\n",
        "# Para testar (opcional, vamos rodar tudo junto no final):\n",
        "# lista_de_textos_dos_pdfs = agente_leitor_de_pdfs(pasta_dos_pdfs)\n",
        "# print(f\"\\nEncontrei {len(lista_de_textos_dos_pdfs)} PDFs com texto.\")"
      ],
      "metadata": {
        "id": "D4VAy5zjKB4e"
      },
      "execution_count": 4,
      "outputs": []
    },
    {
      "cell_type": "code",
      "source": [
        "# Célula 5: Agente 2 - Função para extrair informações do texto\n",
        "import re # Biblioteca para \"Expressões Regulares\" (busca avançada de texto)\n",
        "\n",
        "def agente_extrator_de_informacoes(texto_do_documento):\n",
        "    \"\"\"\n",
        "    Este \"agente extrator\" recebe o texto de um documento e tenta\n",
        "    encontrar nome, CPF, endereço do autor e a decisão/sentença/acórdão.\n",
        "    \"\"\"\n",
        "    # print(\"\\n--- Agente Extrator Ativado: Analisando texto... ---\")\n",
        "    informacoes = {\n",
        "        \"nome_autor\": \"Não encontrado\",\n",
        "        \"cpf_autor\": \"Não encontrado\",\n",
        "        \"endereco_autor\": \"Não encontrado\",\n",
        "        \"tipo_decisao\": \"Não especificado\", # Para \"Decisão\", \"Sentença\" ou \"Acórdão\"\n",
        "        \"resumo_decisao\": \"Não encontrado\"\n",
        "    }\n",
        "\n",
        "    # Tentar encontrar NOME DO AUTOR\n",
        "    # Procuramos por \"Autor(a):\", \"Requerente:\", \"Parte Autora:\" seguido de um nome.\n",
        "    # [A-Za-zÀ-ú\\s]+ significa \"uma ou mais letras (maiúsculas, minúsculas, com acento) e espaços\"\n",
        "    # O '?' depois de \\s* faz a busca ser \"não gulosa\", parando no primeiro \\n (nova linha) ou CPF\n",
        "    match_nome = re.search(r\"(?:Autor\\(a\\)|Requerente|Parte Autora|Exequente)\\s*:\\s*([A-Za-zÀ-ú\\s]+?)(?:\\n|CPF)\", texto_do_documento, re.IGNORECASE)\n",
        "    if match_nome:\n",
        "        informacoes[\"nome_autor\"] = match_nome.group(1).strip() # .group(1) pega o que está nos parênteses () da regex\n",
        "\n",
        "    # Tentar encontrar CPF DO AUTOR\n",
        "    # Procuramos por \"CPF:\" seguido de números no formato XXX.XXX.XXX-XX ou XXXXXXXXXXX\n",
        "    match_cpf = re.search(r\"CPF\\s*(?:nº|:)?\\s*(\\d{3}\\.\\d{3}\\.\\d{3}-\\d{2}|\\d{11})\", texto_do_documento, re.IGNORECASE)\n",
        "    if match_cpf:\n",
        "        informacoes[\"cpf_autor\"] = match_cpf.group(1).strip()\n",
        "\n",
        "    # Tentar encontrar ENDEREÇO DO AUTOR\n",
        "    # Esta é a parte mais difícil, pois endereços variam muito.\n",
        "    # Procuramos por \"Endereço:\" seguido de qualquer texto até uma nova linha ou palavras como CEP, Cidade.\n",
        "    # re.DOTALL faz o '.' na regex também pegar quebras de linha, mas limitamos a busca.\n",
        "    # Esta regex é um EXEMPLO e provavelmente precisará de ajustes!\n",
        "    match_endereco = re.search(r\"(?:Endereço|ENDEREÇO)\\s*:\\s*(.+?)(?:\\n\\s*(?:CEP|Cidade|Bairro|Estado)|Processo Nº|CITADO\\(A\\))\", texto_do_documento, re.IGNORECASE | re.DOTALL)\n",
        "    if match_endereco:\n",
        "        # Remove quebras de linha excessivas do endereço\n",
        "        endereco_limpo = re.sub(r'\\s*\\n\\s*', ' ', match_endereco.group(1).strip())\n",
        "        informacoes[\"endereco_autor\"] = endereco_limpo\n",
        "    else: # Tentativa mais simples se a primeira falhar\n",
        "        match_endereco_simples = re.search(r\"residente\\s+e\\s+domiciliado(?:a)?\\s+à\\s+(.+?)(?:,|\\.|CEP|nº)\", texto_do_documento, re.IGNORECASE | re.DOTALL)\n",
        "        if match_endereco_simples:\n",
        "            endereco_limpo = re.sub(r'\\s*\\n\\s*', ' ', match_endereco_simples.group(1).strip())\n",
        "            informacoes[\"endereco_autor\"] = endereco_limpo\n",
        "\n",
        "\n",
        "    # Tentar encontrar TIPO DE DECISÃO e um RESUMO\n",
        "    texto_lower = texto_do_documento.lower() # Para facilitar a busca por palavras-chave\n",
        "    palavras_chave_decisao = [\"decisão\", \"sentença\", \"acórdão\"]\n",
        "    indice_inicio_decisao = -1\n",
        "\n",
        "    for palavra in palavras_chave_decisao:\n",
        "        # Procuramos a palavra cercada por espaços ou no início/fim de uma frase, para evitar falsos positivos\n",
        "        # como \"decisãoprocessual\"\n",
        "        match_palavra_chave = re.search(r\"\\b\" + palavra + r\"\\b\", texto_lower)\n",
        "        if match_palavra_chave:\n",
        "            informacoes[\"tipo_decisao\"] = palavra.capitalize()\n",
        "            indice_inicio_decisao = match_palavra_chave.start() # Onde a palavra foi encontrada\n",
        "            break # Para na primeira que encontrar (Decisão, depois Sentença, depois Acórdão)\n",
        "\n",
        "    if indice_inicio_decisao != -1:\n",
        "        # Pega um trecho do texto começando da palavra-chave encontrada.\n",
        "        # O \"resumo\" aqui será os próximos 1000 caracteres após a palavra-chave.\n",
        "        # Isso é uma simplificação! Um resumo de verdade é mais complexo.\n",
        "        texto_apos_palavra_chave = texto_do_documento[indice_inicio_decisao:]\n",
        "\n",
        "        # Tenta encontrar frases comuns de julgamento para um \"resumo\" mais focado\n",
        "        # (JULGO PROCEDENTE..., CONDENO..., NEGO PROVIMENTO..., etc.)\n",
        "        # (?:.|\\n) significa \"qualquer caractere OU uma nova linha\"\n",
        "        match_julgamento = re.search(r\"(JULGO\\s+(?:PARCIALMENTE\\s+)?PROCEDENTE|JULGO\\s+IMPROCEDENTE|NEGO\\s+PROVIMENTO|DOU\\s+(?:PARCIAL\\s+)?PROVIMENTO|CONDENO|ABSOLVO|DECRETO|MANTENHO\\s+A\\s+SENTENÇA|REFORMO\\s+A\\s+SENTENÇA)(?:.|\\n){0,500}\", texto_apos_palavra_chave, re.IGNORECASE | re.DOTALL)\n",
        "        if match_julgamento:\n",
        "            # Pega até 500 caracteres do trecho do julgamento.\n",
        "            resumo_bruto = match_julgamento.group(0).strip()\n",
        "            informacoes[\"resumo_decisao\"] = re.sub(r'\\s+', ' ', resumo_bruto[:500]) + \"...\" # Limpa espaços extras\n",
        "        else:\n",
        "            # Se não achar frases de julgamento, pega um trecho genérico\n",
        "            resumo_bruto = texto_apos_palavra_chave[:1000].strip()\n",
        "            informacoes[\"resumo_decisao\"] = re.sub(r'\\s+', ' ', resumo_bruto) + \"...\" # Limpa espaços extras\n",
        "    else:\n",
        "        informacoes[\"resumo_decisao\"] = \"Palavra-chave (Decisão/Sentença/Acórdão) não encontrada no texto ou texto subsequente não capturado.\"\n",
        "\n",
        "    # print(\"--- Agente Extrator Concluído. ---\")\n",
        "    return informacoes\n",
        "\n",
        "# Para testar (opcional):\n",
        "# if lista_de_textos_dos_pdfs: # Se a lista não estiver vazia\n",
        "#     texto_exemplo = lista_de_textos_dos_pdfs[0][\"conteudo_texto\"] # Pega o texto do primeiro PDF\n",
        "#     infos_exemplo = agente_extrator_de_informacoes(texto_exemplo)\n",
        "#     print(\"\\nInformações extraídas do primeiro PDF (exemplo):\")\n",
        "#     for chave, valor in infos_exemplo.items():\n",
        "#         print(f\"  {chave}: {valor[:100]}...\") # Mostra só os primeiros 100 caracteres"
      ],
      "metadata": {
        "id": "-ox8pLBeKC_j"
      },
      "execution_count": 5,
      "outputs": []
    },
    {
      "cell_type": "code",
      "source": [
        "# Célula 6: Agente 3 - Função para salvar os dados extraídos em um arquivo de texto\n",
        "def agente_arquivista(dados_para_salvar, nome_do_pdf_original, caminho_da_pasta_para_salvar):\n",
        "    \"\"\"\n",
        "    Este \"agente arquivista\" pega os dados extraídos e os salva\n",
        "    em um arquivo .txt na pasta especificada.\n",
        "    O nome do arquivo de resumo será baseado no nome do PDF original.\n",
        "    \"\"\"\n",
        "    # print(f\"\\n--- Agente Arquivista Ativado: Preparando para salvar resumo de '{nome_do_pdf_original}' ---\")\n",
        "    # Cria um nome para o arquivo de resumo. Ex: se o PDF é \"processo123.pdf\", o resumo será \"resumo_processo123.txt\"\n",
        "    nome_arquivo_resumo = \"RESUMO_\" + nome_do_pdf_original.replace(\".pdf\", \".txt\").replace(\".PDF\", \".txt\")\n",
        "    caminho_completo_do_resumo = os.path.join(caminho_da_pasta_para_salvar, nome_arquivo_resumo)\n",
        "\n",
        "    try:\n",
        "        # Abre (ou cria se não existir) o arquivo de resumo em modo de escrita ('w')\n",
        "        # encoding='utf-8' ajuda com acentos e caracteres especiais\n",
        "        with open(caminho_completo_do_resumo, 'w', encoding='utf-8') as arquivo_saida:\n",
        "            arquivo_saida.write(f\"Arquivo Original: {nome_do_pdf_original}\\n\")\n",
        "            arquivo_saida.write(\"=\" * 40 + \"\\n\") # Uma linha separadora\n",
        "            arquivo_saida.write(f\"Nome do Autor: {dados_para_salvar['nome_autor']}\\n\")\n",
        "            arquivo_saida.write(f\"CPF do Autor: {dados_para_salvar['cpf_autor']}\\n\")\n",
        "            arquivo_saida.write(f\"Endereço do Autor: {dados_para_salvar['endereco_autor']}\\n\")\n",
        "            arquivo_saida.write(\"-\" * 40 + \"\\n\") # Outra linha separadora\n",
        "            arquivo_saida.write(f\"Tipo de Decisão/Documento: {dados_para_salvar['tipo_decisao']}\\n\")\n",
        "            arquivo_saida.write(f\"Conteúdo Principal da Decisão/Sentença/Acórdão:\\n{dados_para_salvar['resumo_decisao']}\\n\")\n",
        "\n",
        "        print(f\"  Sucesso! Resumo salvo em: {caminho_completo_do_resumo}\")\n",
        "    except Exception as e:\n",
        "        print(f\"  Ops! Ocorreu um erro ao tentar salvar o resumo '{nome_arquivo_resumo}': {e}\")\n",
        "\n",
        "# Para testar (opcional):\n",
        "# if lista_de_textos_dos_pdfs and infos_exemplo: # Se tivermos dados de exemplo\n",
        "#     agente_arquivista(infos_exemplo, lista_de_textos_dos_pdfs[0][\"nome_arquivo\"], pasta_dos_resumos)"
      ],
      "metadata": {
        "id": "XnFgVqZKKPBP"
      },
      "execution_count": 6,
      "outputs": []
    },
    {
      "cell_type": "code",
      "source": [
        "# Célula 7: Executando o projeto completo - Orquestrando os agentes\n",
        "\n",
        "print(\"=======================================================\")\n",
        "print(\"🤖 INICIANDO PROJETO DE EXTRAÇÃO DE INFORMAÇÕES JUDICIAIS 🤖\")\n",
        "print(\"=======================================================\")\n",
        "\n",
        "# Verifica se a pasta dos PDFs foi configurada corretamente (da Célula 3)\n",
        "if 'pasta_dos_pdfs' not in globals() or not os.path.exists(pasta_dos_pdfs):\n",
        "    print(\"\\n❌ ERRO: A variável 'pasta_dos_pdfs' não foi definida ou a pasta não existe.\")\n",
        "    print(\"Por favor, execute a Célula 3 (Definir o caminho da pasta dos PDFs) corretamente.\")\n",
        "    print(\"Certifique-se de que o Google Drive está montado e o caminho está correto.\")\n",
        "else:\n",
        "    print(f\"\\n🔎 Usando a pasta de PDFs: {pasta_dos_pdfs}\")\n",
        "    print(f\"📝 Os resumos serão salvos em: {pasta_dos_resumos}\")\n",
        "\n",
        "    # ---- AGENTE 1: LER OS PDFs ----\n",
        "    # Chamamos a função que definimos na Célula 4\n",
        "    lista_documentos_com_texto = agente_leitor_de_pdfs(pasta_dos_pdfs)\n",
        "\n",
        "    if not lista_documentos_com_texto:\n",
        "        print(\"\\n⚠️ Nenhum documento PDF foi lido ou nenhum texto pôde ser extraído. O programa não pode continuar.\")\n",
        "    else:\n",
        "        print(f\"\\n👍 Agente Leitor finalizou. Total de {len(lista_documentos_com_texto)} documento(s) com texto para analisar.\")\n",
        "        print(\"-------------------------------------------------------\")\n",
        "\n",
        "        contador_sucessos = 0\n",
        "        # Vamos passar por cada documento que o Agente 1 leu\n",
        "        for i, documento_atual in enumerate(lista_documentos_com_texto):\n",
        "            nome_arquivo = documento_atual[\"nome_arquivo\"]\n",
        "            texto_completo = documento_atual[\"conteudo_texto\"]\n",
        "\n",
        "            print(f\"\\n📄 Processando documento {i+1}/{len(lista_documentos_com_texto)}: {nome_arquivo}\")\n",
        "\n",
        "            # ---- AGENTE 2: EXTRAIR INFORMAÇÕES ----\n",
        "            # Chamamos a função que definimos na Célula 5\n",
        "            print(\"   🧠 Agente Extrator iniciando...\")\n",
        "            informacoes_extraidas = agente_extrator_de_informacoes(texto_completo)\n",
        "\n",
        "            # Mostra um resumo do que foi encontrado (ou não)\n",
        "            print(\"      Informações encontradas (prévia):\")\n",
        "            for chave, valor in informacoes_extraidas.items():\n",
        "                valor_prev = str(valor)\n",
        "                if len(valor_prev) > 70: # Se o valor for muito longo, mostra só o começo\n",
        "                    valor_prev = valor_prev[:70] + \"...\"\n",
        "                print(f\"         - {chave.replace('_', ' ').capitalize()}: {valor_prev}\")\n",
        "\n",
        "\n",
        "            # ---- AGENTE 3: SALVAR AS INFORMAÇÕES ----\n",
        "            # Chamamos a função que definimos na Célula 6\n",
        "            print(\"   💾 Agente Arquivista iniciando...\")\n",
        "            agente_arquivista(informacoes_extraidas, nome_arquivo, pasta_dos_resumos)\n",
        "            contador_sucessos +=1\n",
        "            print(\"-------------------------------------------------------\")\n",
        "\n",
        "        print(f\"\\n🎉 Processamento Concluído! 🎉\")\n",
        "        if contador_sucessos > 0:\n",
        "            print(f\"Foram processados e salvos resumos para {contador_sucessos} documento(s).\")\n",
        "            print(f\"Verifique a pasta '{pasta_dos_resumos}' no seu Google Drive pelos arquivos 'RESUMO_...'\")\n",
        "        else:\n",
        "            print(\"Nenhum resumo foi gerado. Verifique as mensagens anteriores para possíveis avisos ou erros.\")\n",
        "\n",
        "print(\"\\n=======================================================\")\n",
        "print(\"🤖 FIM DO PROJETO 🤖\")\n",
        "print(\"=======================================================\")"
      ],
      "metadata": {
        "colab": {
          "base_uri": "https://localhost:8080/"
        },
        "id": "AQNkmEFQKVD4",
        "outputId": "f0c0b69d-6e59-4391-d2bb-d1fbc4db17ec"
      },
      "execution_count": 7,
      "outputs": [
        {
          "output_type": "stream",
          "name": "stdout",
          "text": [
            "=======================================================\n",
            "🤖 INICIANDO PROJETO DE EXTRAÇÃO DE INFORMAÇÕES JUDICIAIS 🤖\n",
            "=======================================================\n",
            "\n",
            "🔎 Usando a pasta de PDFs: /content/drive/MyDrive/Pdfs\n",
            "📝 Os resumos serão salvos em: /content/drive/MyDrive/Pdfs\n",
            "\n",
            "--- Agente Leitor Ativado: Buscando PDFs em '/content/drive/MyDrive/Pdfs' ---\n",
            "Encontrei um PDF: 5015514-52.2019.4.03.6100.pdf\n",
            "  Aviso: Não consegui extrair texto do '5015514-52.2019.4.03.6100.pdf' (pode estar vazio ou ser uma imagem).\n",
            "Nenhum texto de PDF foi extraído. Verifique se há PDFs na pasta ou se eles contêm texto selecionável.\n",
            "\n",
            "⚠️ Nenhum documento PDF foi lido ou nenhum texto pôde ser extraído. O programa não pode continuar.\n",
            "\n",
            "=======================================================\n",
            "🤖 FIM DO PROJETO 🤖\n",
            "=======================================================\n"
          ]
        }
      ]
    }
  ]
}